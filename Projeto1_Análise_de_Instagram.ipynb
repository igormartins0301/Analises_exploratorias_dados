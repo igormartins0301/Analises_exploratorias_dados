{
  "cells": [
    {
      "cell_type": "markdown",
      "metadata": {
        "id": "view-in-github",
        "colab_type": "text"
      },
      "source": [
        "<a href=\"https://colab.research.google.com/github/igormartins0301/Analises_exploratorias_dados/blob/main/Projeto1_An%C3%A1lise_de_Instagram.ipynb\" target=\"_parent\"><img src=\"https://colab.research.google.com/assets/colab-badge.svg\" alt=\"Open In Colab\"/></a>"
      ]
    },
    {
      "cell_type": "code",
      "execution_count": null,
      "id": "229f6de9",
      "metadata": {
        "id": "229f6de9"
      },
      "outputs": [],
      "source": [
        "import pandas as pd\n",
        "import numpy as np\n",
        "import matplotlib"
      ]
    },
    {
      "cell_type": "code",
      "execution_count": null,
      "id": "6b0a1a8a",
      "metadata": {
        "id": "6b0a1a8a"
      },
      "outputs": [],
      "source": [
        "base = pd.read_excel(r'C:\\Users\\Igor\\Desktop\\Analisando o engajamento no Instagram.xlsx')"
      ]
    },
    {
      "cell_type": "code",
      "execution_count": null,
      "id": "2a28093b",
      "metadata": {
        "id": "2a28093b",
        "outputId": "ffc7a62e-b226-4ac5-94de-0c53dd3bc513"
      },
      "outputs": [
        {
          "data": {
            "text/html": [
              "<div>\n",
              "<style scoped>\n",
              "    .dataframe tbody tr th:only-of-type {\n",
              "        vertical-align: middle;\n",
              "    }\n",
              "\n",
              "    .dataframe tbody tr th {\n",
              "        vertical-align: top;\n",
              "    }\n",
              "\n",
              "    .dataframe thead th {\n",
              "        text-align: right;\n",
              "    }\n",
              "</style>\n",
              "<table border=\"1\" class=\"dataframe\">\n",
              "  <thead>\n",
              "    <tr style=\"text-align: right;\">\n",
              "      <th></th>\n",
              "      <th>Tipo</th>\n",
              "      <th>Data</th>\n",
              "      <th>Curtidas</th>\n",
              "      <th>Comentários</th>\n",
              "      <th>Visualizações</th>\n",
              "      <th>Tags</th>\n",
              "      <th>Pessoas</th>\n",
              "      <th>Campanhas</th>\n",
              "      <th>Carrossel</th>\n",
              "      <th>Interacoes</th>\n",
              "    </tr>\n",
              "  </thead>\n",
              "  <tbody>\n",
              "    <tr>\n",
              "      <th>0</th>\n",
              "      <td>Foto</td>\n",
              "      <td>2021-09-11</td>\n",
              "      <td>2858</td>\n",
              "      <td>16</td>\n",
              "      <td>NaN</td>\n",
              "      <td>Loja</td>\n",
              "      <td>N</td>\n",
              "      <td>N</td>\n",
              "      <td>NaN</td>\n",
              "      <td>2874</td>\n",
              "    </tr>\n",
              "    <tr>\n",
              "      <th>1</th>\n",
              "      <td>Foto</td>\n",
              "      <td>2021-09-11</td>\n",
              "      <td>2930</td>\n",
              "      <td>28</td>\n",
              "      <td>NaN</td>\n",
              "      <td>Loja/Produtos</td>\n",
              "      <td>N</td>\n",
              "      <td>N</td>\n",
              "      <td>NaN</td>\n",
              "      <td>2958</td>\n",
              "    </tr>\n",
              "    <tr>\n",
              "      <th>2</th>\n",
              "      <td>Foto</td>\n",
              "      <td>2021-09-11</td>\n",
              "      <td>2807</td>\n",
              "      <td>9</td>\n",
              "      <td>NaN</td>\n",
              "      <td>Loja</td>\n",
              "      <td>N</td>\n",
              "      <td>N</td>\n",
              "      <td>NaN</td>\n",
              "      <td>2816</td>\n",
              "    </tr>\n",
              "    <tr>\n",
              "      <th>3</th>\n",
              "      <td>Vídeo</td>\n",
              "      <td>2021-09-12</td>\n",
              "      <td>5115</td>\n",
              "      <td>49</td>\n",
              "      <td>82878.0</td>\n",
              "      <td>Produtos</td>\n",
              "      <td>N</td>\n",
              "      <td>N</td>\n",
              "      <td>NaN</td>\n",
              "      <td>5164</td>\n",
              "    </tr>\n",
              "    <tr>\n",
              "      <th>4</th>\n",
              "      <td>Foto</td>\n",
              "      <td>2021-09-13</td>\n",
              "      <td>4392</td>\n",
              "      <td>45</td>\n",
              "      <td>NaN</td>\n",
              "      <td>Produtos</td>\n",
              "      <td>S</td>\n",
              "      <td>N</td>\n",
              "      <td>NaN</td>\n",
              "      <td>4437</td>\n",
              "    </tr>\n",
              "  </tbody>\n",
              "</table>\n",
              "</div>"
            ],
            "text/plain": [
              "    Tipo       Data  Curtidas  Comentários  Visualizações           Tags  \\\n",
              "0   Foto 2021-09-11      2858           16            NaN           Loja   \n",
              "1   Foto 2021-09-11      2930           28            NaN  Loja/Produtos   \n",
              "2   Foto 2021-09-11      2807            9            NaN           Loja   \n",
              "3  Vídeo 2021-09-12      5115           49        82878.0       Produtos   \n",
              "4   Foto 2021-09-13      4392           45            NaN       Produtos   \n",
              "\n",
              "  Pessoas Campanhas Carrossel  Interacoes   \n",
              "0       N         N       NaN         2874  \n",
              "1       N         N       NaN         2958  \n",
              "2       N         N       NaN         2816  \n",
              "3       N         N       NaN         5164  \n",
              "4       S         N       NaN         4437  "
            ]
          },
          "execution_count": 3,
          "metadata": {},
          "output_type": "execute_result"
        }
      ],
      "source": [
        "base.head()"
      ]
    },
    {
      "cell_type": "code",
      "execution_count": null,
      "id": "736cc472",
      "metadata": {
        "id": "736cc472"
      },
      "outputs": [],
      "source": [
        "#Removendo a coluna visualizações\n",
        "base.drop('Visualizações',axis=1,inplace=True)"
      ]
    },
    {
      "cell_type": "code",
      "execution_count": null,
      "id": "158105c5",
      "metadata": {
        "id": "158105c5",
        "outputId": "b6455021-4733-41ab-bf92-719e43c1d1a3"
      },
      "outputs": [
        {
          "data": {
            "text/plain": [
              "Tipo            0\n",
              "Data            0\n",
              "Curtidas        0\n",
              "Comentários     0\n",
              "Tags            8\n",
              "Pessoas         0\n",
              "Campanhas       0\n",
              "Carrossel      44\n",
              "Interacoes      0\n",
              "dtype: int64"
            ]
          },
          "execution_count": 5,
          "metadata": {},
          "output_type": "execute_result"
        }
      ],
      "source": [
        "#Encontrando valores nulos em cada coluna\n",
        "base.isna().sum()"
      ]
    },
    {
      "cell_type": "code",
      "execution_count": null,
      "id": "22a7a3b8",
      "metadata": {
        "id": "22a7a3b8",
        "outputId": "d4786f04-c1e9-43bd-b005-8aec531fe9c3"
      },
      "outputs": [
        {
          "data": {
            "text/plain": [
              "S    8\n",
              "Name: Carrossel, dtype: int64"
            ]
          },
          "execution_count": 6,
          "metadata": {},
          "output_type": "execute_result"
        }
      ],
      "source": [
        "#Entendendo quais são as respostas para a coluna carrosel\n",
        "base['Carrossel'].value_counts()"
      ]
    },
    {
      "cell_type": "code",
      "execution_count": null,
      "id": "ae451e8e",
      "metadata": {
        "id": "ae451e8e"
      },
      "outputs": [],
      "source": [
        "#Substituir NaN por 'N'\n",
        "#base['Carrossel'].fillna('N', inplace = True)\n",
        "\n",
        "#Outra forma de fazer a mesma coisa\n",
        "base.loc[base['Carrossel'].isnull(),'Carrossel']='N'"
      ]
    },
    {
      "cell_type": "code",
      "execution_count": null,
      "id": "02f451f0",
      "metadata": {
        "id": "02f451f0",
        "outputId": "0fc8b0c3-4eae-45e7-8a52-3689e9b9b1a6"
      },
      "outputs": [
        {
          "data": {
            "text/plain": [
              "N    44\n",
              "S     8\n",
              "Name: Carrossel, dtype: int64"
            ]
          },
          "execution_count": 8,
          "metadata": {},
          "output_type": "execute_result"
        }
      ],
      "source": [
        "base['Carrossel'].value_counts()"
      ]
    },
    {
      "cell_type": "markdown",
      "id": "3d733f91",
      "metadata": {
        "id": "3d733f91"
      },
      "source": [
        "### Informações estatísticas"
      ]
    },
    {
      "cell_type": "code",
      "execution_count": null,
      "id": "1a7d92e8",
      "metadata": {
        "id": "1a7d92e8",
        "outputId": "f40d7921-7c83-4e9f-d009-9b2a6a8971e9"
      },
      "outputs": [
        {
          "data": {
            "text/html": [
              "<div>\n",
              "<style scoped>\n",
              "    .dataframe tbody tr th:only-of-type {\n",
              "        vertical-align: middle;\n",
              "    }\n",
              "\n",
              "    .dataframe tbody tr th {\n",
              "        vertical-align: top;\n",
              "    }\n",
              "\n",
              "    .dataframe thead th {\n",
              "        text-align: right;\n",
              "    }\n",
              "</style>\n",
              "<table border=\"1\" class=\"dataframe\">\n",
              "  <thead>\n",
              "    <tr style=\"text-align: right;\">\n",
              "      <th></th>\n",
              "      <th>Curtidas</th>\n",
              "      <th>Comentários</th>\n",
              "      <th>Interacoes</th>\n",
              "    </tr>\n",
              "  </thead>\n",
              "  <tbody>\n",
              "    <tr>\n",
              "      <th>count</th>\n",
              "      <td>52.000000</td>\n",
              "      <td>52.000000</td>\n",
              "      <td>52.000000</td>\n",
              "    </tr>\n",
              "    <tr>\n",
              "      <th>mean</th>\n",
              "      <td>12262.730769</td>\n",
              "      <td>189.500000</td>\n",
              "      <td>12452.230769</td>\n",
              "    </tr>\n",
              "    <tr>\n",
              "      <th>std</th>\n",
              "      <td>8165.875326</td>\n",
              "      <td>170.687709</td>\n",
              "      <td>8299.390088</td>\n",
              "    </tr>\n",
              "    <tr>\n",
              "      <th>min</th>\n",
              "      <td>2807.000000</td>\n",
              "      <td>9.000000</td>\n",
              "      <td>2816.000000</td>\n",
              "    </tr>\n",
              "    <tr>\n",
              "      <th>25%</th>\n",
              "      <td>5492.000000</td>\n",
              "      <td>69.500000</td>\n",
              "      <td>5562.500000</td>\n",
              "    </tr>\n",
              "    <tr>\n",
              "      <th>50%</th>\n",
              "      <td>9603.000000</td>\n",
              "      <td>128.000000</td>\n",
              "      <td>9773.500000</td>\n",
              "    </tr>\n",
              "    <tr>\n",
              "      <th>75%</th>\n",
              "      <td>17621.750000</td>\n",
              "      <td>265.250000</td>\n",
              "      <td>17920.750000</td>\n",
              "    </tr>\n",
              "    <tr>\n",
              "      <th>max</th>\n",
              "      <td>37351.000000</td>\n",
              "      <td>852.000000</td>\n",
              "      <td>37853.000000</td>\n",
              "    </tr>\n",
              "  </tbody>\n",
              "</table>\n",
              "</div>"
            ],
            "text/plain": [
              "           Curtidas  Comentários   Interacoes \n",
              "count     52.000000    52.000000     52.000000\n",
              "mean   12262.730769   189.500000  12452.230769\n",
              "std     8165.875326   170.687709   8299.390088\n",
              "min     2807.000000     9.000000   2816.000000\n",
              "25%     5492.000000    69.500000   5562.500000\n",
              "50%     9603.000000   128.000000   9773.500000\n",
              "75%    17621.750000   265.250000  17920.750000\n",
              "max    37351.000000   852.000000  37853.000000"
            ]
          },
          "execution_count": 9,
          "metadata": {},
          "output_type": "execute_result"
        }
      ],
      "source": [
        "base.describe()"
      ]
    },
    {
      "cell_type": "markdown",
      "id": "f748c6d5",
      "metadata": {
        "id": "f748c6d5"
      },
      "source": [
        "### Visualizando informações de forma gráfica"
      ]
    },
    {
      "cell_type": "code",
      "execution_count": null,
      "id": "48e45b47",
      "metadata": {
        "id": "48e45b47",
        "outputId": "4f6d9342-afde-42b9-f18f-83c08c2ebe58"
      },
      "outputs": [
        {
          "data": {
            "image/png": "[encoded data removed]",
            "text/plain": [
              "<Figure size 1008x576 with 1 Axes>"
            ]
          },
          "metadata": {
            "needs_background": "light"
          },
          "output_type": "display_data"
        }
      ],
      "source": [
        "#Gráfico de dispersão para entender melhor curtidas e comentários no tempo\n",
        "base.plot.scatter(x=\"Data\", y=\"Curtidas\",figsize=(14,8));"
      ]
    },
    {
      "cell_type": "code",
      "execution_count": null,
      "id": "5d6df4bf",
      "metadata": {
        "id": "5d6df4bf",
        "outputId": "ce41fff2-927f-4ddc-9cc9-7dd4aed8a6e5"
      },
      "outputs": [
        {
          "data": {
            "image/png": "[encoded data removed]",
            "text/plain": [
              "<Figure size 1008x576 with 1 Axes>"
            ]
          },
          "metadata": {
            "needs_background": "light"
          },
          "output_type": "display_data"
        }
      ],
      "source": [
        "base.plot.scatter(x=\"Data\", y=\"Comentários\",figsize=(14,8));"
      ]
    },
    {
      "cell_type": "markdown",
      "id": "5122351e",
      "metadata": {
        "id": "5122351e"
      },
      "source": [
        "- Os gráficos não foram suficientes para entender o comportamento de curtidas e comentários ao decorrer do tempo"
      ]
    },
    {
      "cell_type": "markdown",
      "id": "13a38557",
      "metadata": {
        "id": "13a38557"
      },
      "source": [
        "### Pegar os 5 primeiros registros para entender se existe algo em comum entre eles"
      ]
    },
    {
      "cell_type": "code",
      "execution_count": null,
      "id": "5b71e020",
      "metadata": {
        "id": "5b71e020",
        "outputId": "b7c66614-6d3a-4f76-9974-44c8de2f465a"
      },
      "outputs": [
        {
          "data": {
            "text/html": [
              "<div>\n",
              "<style scoped>\n",
              "    .dataframe tbody tr th:only-of-type {\n",
              "        vertical-align: middle;\n",
              "    }\n",
              "\n",
              "    .dataframe tbody tr th {\n",
              "        vertical-align: top;\n",
              "    }\n",
              "\n",
              "    .dataframe thead th {\n",
              "        text-align: right;\n",
              "    }\n",
              "</style>\n",
              "<table border=\"1\" class=\"dataframe\">\n",
              "  <thead>\n",
              "    <tr style=\"text-align: right;\">\n",
              "      <th></th>\n",
              "      <th>Tipo</th>\n",
              "      <th>Data</th>\n",
              "      <th>Curtidas</th>\n",
              "      <th>Comentários</th>\n",
              "      <th>Tags</th>\n",
              "      <th>Pessoas</th>\n",
              "      <th>Campanhas</th>\n",
              "      <th>Carrossel</th>\n",
              "      <th>Interacoes</th>\n",
              "    </tr>\n",
              "  </thead>\n",
              "  <tbody>\n",
              "    <tr>\n",
              "      <th>39</th>\n",
              "      <td>Foto</td>\n",
              "      <td>2022-02-17</td>\n",
              "      <td>37351</td>\n",
              "      <td>502</td>\n",
              "      <td>Promoções</td>\n",
              "      <td>S</td>\n",
              "      <td>S</td>\n",
              "      <td>N</td>\n",
              "      <td>37853</td>\n",
              "    </tr>\n",
              "    <tr>\n",
              "      <th>30</th>\n",
              "      <td>Reels</td>\n",
              "      <td>2022-01-24</td>\n",
              "      <td>29981</td>\n",
              "      <td>502</td>\n",
              "      <td>Trends</td>\n",
              "      <td>S</td>\n",
              "      <td>S</td>\n",
              "      <td>N</td>\n",
              "      <td>30483</td>\n",
              "    </tr>\n",
              "    <tr>\n",
              "      <th>48</th>\n",
              "      <td>Foto</td>\n",
              "      <td>2022-03-20</td>\n",
              "      <td>29084</td>\n",
              "      <td>479</td>\n",
              "      <td>Datas comemorativas/Promoções</td>\n",
              "      <td>S</td>\n",
              "      <td>S</td>\n",
              "      <td>N</td>\n",
              "      <td>29563</td>\n",
              "    </tr>\n",
              "    <tr>\n",
              "      <th>33</th>\n",
              "      <td>Foto</td>\n",
              "      <td>2022-02-06</td>\n",
              "      <td>24655</td>\n",
              "      <td>186</td>\n",
              "      <td>Influenciadores</td>\n",
              "      <td>S</td>\n",
              "      <td>S</td>\n",
              "      <td>N</td>\n",
              "      <td>24841</td>\n",
              "    </tr>\n",
              "    <tr>\n",
              "      <th>26</th>\n",
              "      <td>Foto</td>\n",
              "      <td>2022-01-08</td>\n",
              "      <td>24585</td>\n",
              "      <td>354</td>\n",
              "      <td>Datas comemorativas</td>\n",
              "      <td>S</td>\n",
              "      <td>S</td>\n",
              "      <td>S</td>\n",
              "      <td>24939</td>\n",
              "    </tr>\n",
              "  </tbody>\n",
              "</table>\n",
              "</div>"
            ],
            "text/plain": [
              "     Tipo       Data  Curtidas  Comentários                           Tags  \\\n",
              "39   Foto 2022-02-17     37351          502                      Promoções   \n",
              "30  Reels 2022-01-24     29981          502                         Trends   \n",
              "48   Foto 2022-03-20     29084          479  Datas comemorativas/Promoções   \n",
              "33   Foto 2022-02-06     24655          186                Influenciadores   \n",
              "26   Foto 2022-01-08     24585          354            Datas comemorativas   \n",
              "\n",
              "   Pessoas Campanhas Carrossel  Interacoes   \n",
              "39       S         S         N        37853  \n",
              "30       S         S         N        30483  \n",
              "48       S         S         N        29563  \n",
              "33       S         S         N        24841  \n",
              "26       S         S         S        24939  "
            ]
          },
          "execution_count": 12,
          "metadata": {},
          "output_type": "execute_result"
        }
      ],
      "source": [
        "#Ordenando valores\n",
        "mais_curtidos = base.sort_values(by='Curtidas',ascending=False).head(5)\n",
        "mais_curtidos.head()"
      ]
    },
    {
      "cell_type": "markdown",
      "id": "4e8e70a9",
      "metadata": {
        "id": "4e8e70a9"
      },
      "source": [
        "### Agrupar valores para entender se algum grupo possui melhores resultados nas postagens"
      ]
    },
    {
      "cell_type": "code",
      "execution_count": null,
      "id": "c337de42",
      "metadata": {
        "id": "c337de42",
        "outputId": "80f640c0-9dd1-4531-ecff-4d1568b6d545"
      },
      "outputs": [
        {
          "data": {
            "text/html": [
              "<div>\n",
              "<style scoped>\n",
              "    .dataframe tbody tr th:only-of-type {\n",
              "        vertical-align: middle;\n",
              "    }\n",
              "\n",
              "    .dataframe tbody tr th {\n",
              "        vertical-align: top;\n",
              "    }\n",
              "\n",
              "    .dataframe thead th {\n",
              "        text-align: right;\n",
              "    }\n",
              "</style>\n",
              "<table border=\"1\" class=\"dataframe\">\n",
              "  <thead>\n",
              "    <tr style=\"text-align: right;\">\n",
              "      <th></th>\n",
              "      <th>Curtidas</th>\n",
              "      <th>Comentários</th>\n",
              "      <th>Interacoes</th>\n",
              "    </tr>\n",
              "    <tr>\n",
              "      <th>Tipo</th>\n",
              "      <th></th>\n",
              "      <th></th>\n",
              "      <th></th>\n",
              "    </tr>\n",
              "  </thead>\n",
              "  <tbody>\n",
              "    <tr>\n",
              "      <th>Foto</th>\n",
              "      <td>13481.447368</td>\n",
              "      <td>196.578947</td>\n",
              "      <td>13678.026316</td>\n",
              "    </tr>\n",
              "    <tr>\n",
              "      <th>IGTV</th>\n",
              "      <td>6833.400000</td>\n",
              "      <td>133.600000</td>\n",
              "      <td>6967.000000</td>\n",
              "    </tr>\n",
              "    <tr>\n",
              "      <th>Reels</th>\n",
              "      <td>14543.166667</td>\n",
              "      <td>245.166667</td>\n",
              "      <td>14788.333333</td>\n",
              "    </tr>\n",
              "    <tr>\n",
              "      <th>Vídeo</th>\n",
              "      <td>8141.500000</td>\n",
              "      <td>166.833333</td>\n",
              "      <td>8308.333333</td>\n",
              "    </tr>\n",
              "  </tbody>\n",
              "</table>\n",
              "</div>"
            ],
            "text/plain": [
              "           Curtidas  Comentários   Interacoes \n",
              "Tipo                                          \n",
              "Foto   13481.447368   196.578947  13678.026316\n",
              "IGTV    6833.400000   133.600000   6967.000000\n",
              "Reels  14543.166667   245.166667  14788.333333\n",
              "Vídeo   8141.500000   166.833333   8308.333333"
            ]
          },
          "execution_count": 27,
          "metadata": {},
          "output_type": "execute_result"
        }
      ],
      "source": [
        "#Analisando todos os resultados de acordo com o tipo\n",
        "base.groupby(by='Tipo').mean()"
      ]
    },
    {
      "cell_type": "markdown",
      "id": "1b4a2d9b",
      "metadata": {
        "id": "1b4a2d9b"
      },
      "source": [
        "- Aparentemente Reels e Fotos geram mais engajamento nos Posts."
      ]
    },
    {
      "cell_type": "code",
      "execution_count": null,
      "id": "cf1692a6",
      "metadata": {
        "id": "cf1692a6",
        "outputId": "9bc8288d-b273-48d7-87e7-7f9f9a40ea37"
      },
      "outputs": [
        {
          "data": {
            "text/plain": [
              "Tipo\n",
              "Foto     13341.138889\n",
              "IGTV      6833.400000\n",
              "Reels    14873.000000\n",
              "Vídeo     8141.500000\n",
              "Name: Curtidas, dtype: float64"
            ]
          },
          "execution_count": 14,
          "metadata": {},
          "output_type": "execute_result"
        }
      ],
      "source": [
        "#Caso queira analisar só um resultado, pode ser feito dessa forma\n",
        "base.groupby(by='Tipo')['Curtidas'].mean()"
      ]
    },
    {
      "cell_type": "code",
      "execution_count": null,
      "id": "090cfec5",
      "metadata": {
        "id": "090cfec5",
        "outputId": "49b84730-1d5f-4f3f-da1d-641790c70ea1"
      },
      "outputs": [
        {
          "data": {
            "text/html": [
              "<div>\n",
              "<style scoped>\n",
              "    .dataframe tbody tr th:only-of-type {\n",
              "        vertical-align: middle;\n",
              "    }\n",
              "\n",
              "    .dataframe tbody tr th {\n",
              "        vertical-align: top;\n",
              "    }\n",
              "\n",
              "    .dataframe thead th {\n",
              "        text-align: right;\n",
              "    }\n",
              "</style>\n",
              "<table border=\"1\" class=\"dataframe\">\n",
              "  <thead>\n",
              "    <tr style=\"text-align: right;\">\n",
              "      <th></th>\n",
              "      <th></th>\n",
              "      <th>Curtidas</th>\n",
              "      <th>Comentários</th>\n",
              "    </tr>\n",
              "    <tr>\n",
              "      <th>Tipo</th>\n",
              "      <th>Pessoas</th>\n",
              "      <th></th>\n",
              "      <th></th>\n",
              "    </tr>\n",
              "  </thead>\n",
              "  <tbody>\n",
              "    <tr>\n",
              "      <th rowspan=\"2\" valign=\"top\">Foto</th>\n",
              "      <th>N</th>\n",
              "      <td>3863.500000</td>\n",
              "      <td>29.50</td>\n",
              "    </tr>\n",
              "    <tr>\n",
              "      <th>S</th>\n",
              "      <td>15236.666667</td>\n",
              "      <td>226.20</td>\n",
              "    </tr>\n",
              "    <tr>\n",
              "      <th>IGTV</th>\n",
              "      <th>S</th>\n",
              "      <td>6833.400000</td>\n",
              "      <td>133.60</td>\n",
              "    </tr>\n",
              "    <tr>\n",
              "      <th rowspan=\"2\" valign=\"top\">Reels</th>\n",
              "      <th>N</th>\n",
              "      <td>5934.500000</td>\n",
              "      <td>98.00</td>\n",
              "    </tr>\n",
              "    <tr>\n",
              "      <th>S</th>\n",
              "      <td>20832.000000</td>\n",
              "      <td>342.00</td>\n",
              "    </tr>\n",
              "    <tr>\n",
              "      <th rowspan=\"2\" valign=\"top\">Vídeo</th>\n",
              "      <th>N</th>\n",
              "      <td>4007.500000</td>\n",
              "      <td>65.25</td>\n",
              "    </tr>\n",
              "    <tr>\n",
              "      <th>S</th>\n",
              "      <td>16409.500000</td>\n",
              "      <td>370.00</td>\n",
              "    </tr>\n",
              "  </tbody>\n",
              "</table>\n",
              "</div>"
            ],
            "text/plain": [
              "                   Curtidas  Comentários\n",
              "Tipo  Pessoas                           \n",
              "Foto  N         3863.500000        29.50\n",
              "      S        15236.666667       226.20\n",
              "IGTV  S         6833.400000       133.60\n",
              "Reels N         5934.500000        98.00\n",
              "      S        20832.000000       342.00\n",
              "Vídeo N         4007.500000        65.25\n",
              "      S        16409.500000       370.00"
            ]
          },
          "execution_count": 15,
          "metadata": {},
          "output_type": "execute_result"
        }
      ],
      "source": [
        "#Utilizando mais de uma coluna para agrupar\n",
        "base.groupby(by=['Tipo','Pessoas'])[['Curtidas','Comentários']].mean()"
      ]
    },
    {
      "cell_type": "code",
      "execution_count": null,
      "id": "0bb7d75c",
      "metadata": {
        "id": "0bb7d75c",
        "outputId": "120839e7-07ef-4130-cb77-423b551b2a7e"
      },
      "outputs": [
        {
          "data": {
            "text/html": [
              "<div>\n",
              "<style scoped>\n",
              "    .dataframe tbody tr th:only-of-type {\n",
              "        vertical-align: middle;\n",
              "    }\n",
              "\n",
              "    .dataframe tbody tr th {\n",
              "        vertical-align: top;\n",
              "    }\n",
              "\n",
              "    .dataframe thead th {\n",
              "        text-align: right;\n",
              "    }\n",
              "</style>\n",
              "<table border=\"1\" class=\"dataframe\">\n",
              "  <thead>\n",
              "    <tr style=\"text-align: right;\">\n",
              "      <th></th>\n",
              "      <th></th>\n",
              "      <th></th>\n",
              "      <th>Curtidas</th>\n",
              "      <th>Comentários</th>\n",
              "      <th>Interacoes</th>\n",
              "    </tr>\n",
              "    <tr>\n",
              "      <th>Tipo</th>\n",
              "      <th>Pessoas</th>\n",
              "      <th>Campanhas</th>\n",
              "      <th></th>\n",
              "      <th></th>\n",
              "      <th></th>\n",
              "    </tr>\n",
              "  </thead>\n",
              "  <tbody>\n",
              "    <tr>\n",
              "      <th>Reels</th>\n",
              "      <th>S</th>\n",
              "      <th>S</th>\n",
              "      <td>24801.000000</td>\n",
              "      <td>388.500000</td>\n",
              "      <td>25189.500000</td>\n",
              "    </tr>\n",
              "    <tr>\n",
              "      <th>Foto</th>\n",
              "      <th>S</th>\n",
              "      <th>S</th>\n",
              "      <td>19692.352941</td>\n",
              "      <td>295.647059</td>\n",
              "      <td>19988.000000</td>\n",
              "    </tr>\n",
              "    <tr>\n",
              "      <th>Vídeo</th>\n",
              "      <th>S</th>\n",
              "      <th>S</th>\n",
              "      <td>16409.500000</td>\n",
              "      <td>370.000000</td>\n",
              "      <td>16779.500000</td>\n",
              "    </tr>\n",
              "    <tr>\n",
              "      <th>Reels</th>\n",
              "      <th>S</th>\n",
              "      <th>N</th>\n",
              "      <td>12894.000000</td>\n",
              "      <td>249.000000</td>\n",
              "      <td>13143.000000</td>\n",
              "    </tr>\n",
              "    <tr>\n",
              "      <th>Foto</th>\n",
              "      <th>S</th>\n",
              "      <th>N</th>\n",
              "      <td>10815.285714</td>\n",
              "      <td>159.928571</td>\n",
              "      <td>10975.214286</td>\n",
              "    </tr>\n",
              "    <tr>\n",
              "      <th>IGTV</th>\n",
              "      <th>S</th>\n",
              "      <th>N</th>\n",
              "      <td>6833.400000</td>\n",
              "      <td>133.600000</td>\n",
              "      <td>6967.000000</td>\n",
              "    </tr>\n",
              "    <tr>\n",
              "      <th>Reels</th>\n",
              "      <th>N</th>\n",
              "      <th>N</th>\n",
              "      <td>5934.500000</td>\n",
              "      <td>98.000000</td>\n",
              "      <td>6032.500000</td>\n",
              "    </tr>\n",
              "    <tr>\n",
              "      <th>Foto</th>\n",
              "      <th>N</th>\n",
              "      <th>S</th>\n",
              "      <td>5852.500000</td>\n",
              "      <td>47.500000</td>\n",
              "      <td>5900.000000</td>\n",
              "    </tr>\n",
              "    <tr>\n",
              "      <th>Vídeo</th>\n",
              "      <th>N</th>\n",
              "      <th>N</th>\n",
              "      <td>4007.500000</td>\n",
              "      <td>65.250000</td>\n",
              "      <td>4072.750000</td>\n",
              "    </tr>\n",
              "    <tr>\n",
              "      <th>Foto</th>\n",
              "      <th>N</th>\n",
              "      <th>N</th>\n",
              "      <td>2881.200000</td>\n",
              "      <td>22.000000</td>\n",
              "      <td>2903.200000</td>\n",
              "    </tr>\n",
              "  </tbody>\n",
              "</table>\n",
              "</div>"
            ],
            "text/plain": [
              "                             Curtidas  Comentários   Interacoes \n",
              "Tipo  Pessoas Campanhas                                         \n",
              "Reels S       S          24801.000000   388.500000  25189.500000\n",
              "Foto  S       S          19692.352941   295.647059  19988.000000\n",
              "Vídeo S       S          16409.500000   370.000000  16779.500000\n",
              "Reels S       N          12894.000000   249.000000  13143.000000\n",
              "Foto  S       N          10815.285714   159.928571  10975.214286\n",
              "IGTV  S       N           6833.400000   133.600000   6967.000000\n",
              "Reels N       N           5934.500000    98.000000   6032.500000\n",
              "Foto  N       S           5852.500000    47.500000   5900.000000\n",
              "Vídeo N       N           4007.500000    65.250000   4072.750000\n",
              "Foto  N       N           2881.200000    22.000000   2903.200000"
            ]
          },
          "execution_count": 30,
          "metadata": {},
          "output_type": "execute_result"
        }
      ],
      "source": [
        "#Incluindo coluna campanhas\n",
        "base.groupby(by=['Tipo','Pessoas','Campanhas']).mean().sort_values('Curtidas',ascending=False)"
      ]
    },
    {
      "cell_type": "markdown",
      "id": "e29b48ce",
      "metadata": {
        "id": "e29b48ce"
      },
      "source": [
        "- Com esse agrupamento, fica nítido que a presença de pessoas nos Posts traz um resultado muito melhor em relação a curtidas, independente de qual o tipo de postagem feito."
      ]
    },
    {
      "cell_type": "markdown",
      "id": "0b6356bc",
      "metadata": {
        "id": "0b6356bc"
      },
      "source": [
        "### É necessário filtrar a base apenas com fotos para analisar Carrossel, pois não existem Carrosséis em vídeo."
      ]
    },
    {
      "cell_type": "code",
      "execution_count": null,
      "id": "3ab1ef01",
      "metadata": {
        "id": "3ab1ef01",
        "outputId": "feb3092c-da3c-426d-b310-4fa31b57a2a3"
      },
      "outputs": [
        {
          "data": {
            "text/html": [
              "<div>\n",
              "<style scoped>\n",
              "    .dataframe tbody tr th:only-of-type {\n",
              "        vertical-align: middle;\n",
              "    }\n",
              "\n",
              "    .dataframe tbody tr th {\n",
              "        vertical-align: top;\n",
              "    }\n",
              "\n",
              "    .dataframe thead th {\n",
              "        text-align: right;\n",
              "    }\n",
              "</style>\n",
              "<table border=\"1\" class=\"dataframe\">\n",
              "  <thead>\n",
              "    <tr style=\"text-align: right;\">\n",
              "      <th></th>\n",
              "      <th>Curtidas</th>\n",
              "      <th>Comentários</th>\n",
              "    </tr>\n",
              "    <tr>\n",
              "      <th>Carrossel</th>\n",
              "      <th></th>\n",
              "      <th></th>\n",
              "    </tr>\n",
              "  </thead>\n",
              "  <tbody>\n",
              "    <tr>\n",
              "      <th>N</th>\n",
              "      <td>13776.357143</td>\n",
              "      <td>208.571429</td>\n",
              "    </tr>\n",
              "    <tr>\n",
              "      <th>S</th>\n",
              "      <td>11817.875000</td>\n",
              "      <td>140.375000</td>\n",
              "    </tr>\n",
              "  </tbody>\n",
              "</table>\n",
              "</div>"
            ],
            "text/plain": [
              "               Curtidas  Comentários\n",
              "Carrossel                           \n",
              "N          13776.357143   208.571429\n",
              "S          11817.875000   140.375000"
            ]
          },
          "execution_count": 17,
          "metadata": {},
          "output_type": "execute_result"
        }
      ],
      "source": [
        "#Pode-se Filtrar a base antes de agrupar\n",
        "foto = base.loc[base['Tipo']=='Foto']\n",
        "foto.groupby(by='Carrossel')[['Curtidas','Comentários']].mean()"
      ]
    },
    {
      "cell_type": "markdown",
      "id": "b28796fa",
      "metadata": {
        "id": "b28796fa"
      },
      "source": [
        "### Tratando a coluna \"Tags\""
      ]
    },
    {
      "cell_type": "code",
      "execution_count": null,
      "id": "5446b0a6",
      "metadata": {
        "id": "5446b0a6",
        "outputId": "f7fd25e7-f7ae-4a48-f414-b977c75b7e56"
      },
      "outputs": [
        {
          "data": {
            "text/plain": [
              "Produtos                             12\n",
              "Novos Produtos                        7\n",
              "Influenciadores                       7\n",
              "Datas comemorativas                   3\n",
              "Trends                                3\n",
              "Dicas de como usar/Produtos           3\n",
              "Loja                                  2\n",
              "Promoções                             2\n",
              "Dicas de como usar/Novos Produtos     2\n",
              "Loja/Produtos                         1\n",
              "Trends/Produtos                       1\n",
              "Datas comemorativas/Promoções         1\n",
              "Name: Tags, dtype: int64"
            ]
          },
          "execution_count": 18,
          "metadata": {},
          "output_type": "execute_result"
        }
      ],
      "source": [
        "#Analisando quais os tipos de dados estão presentes na coluna Tags\n",
        "base.Tags.value_counts()"
      ]
    },
    {
      "cell_type": "code",
      "execution_count": null,
      "id": "4133c947",
      "metadata": {
        "id": "4133c947",
        "outputId": "99215db1-2b76-4be3-f92f-e0fe0a5344bf"
      },
      "outputs": [
        {
          "data": {
            "text/plain": [
              "0              [Loja]\n",
              "1    [Loja, Produtos]\n",
              "2              [Loja]\n",
              "3          [Produtos]\n",
              "4          [Produtos]\n",
              "Name: Tags, dtype: object"
            ]
          },
          "execution_count": 19,
          "metadata": {},
          "output_type": "execute_result"
        }
      ],
      "source": [
        "#Utilziar a função split para separar todas os dados que possuam tags com \"/\"\n",
        "base['Tags'] = base.Tags.str.split('/')\n",
        "base['Tags'].head()"
      ]
    },
    {
      "cell_type": "code",
      "execution_count": null,
      "id": "638a6822",
      "metadata": {
        "id": "638a6822",
        "outputId": "128601a4-72bc-41ed-98b1-67de10edee0b"
      },
      "outputs": [
        {
          "data": {
            "text/html": [
              "<div>\n",
              "<style scoped>\n",
              "    .dataframe tbody tr th:only-of-type {\n",
              "        vertical-align: middle;\n",
              "    }\n",
              "\n",
              "    .dataframe tbody tr th {\n",
              "        vertical-align: top;\n",
              "    }\n",
              "\n",
              "    .dataframe thead th {\n",
              "        text-align: right;\n",
              "    }\n",
              "</style>\n",
              "<table border=\"1\" class=\"dataframe\">\n",
              "  <thead>\n",
              "    <tr style=\"text-align: right;\">\n",
              "      <th></th>\n",
              "      <th>Tipo</th>\n",
              "      <th>Data</th>\n",
              "      <th>Curtidas</th>\n",
              "      <th>Comentários</th>\n",
              "      <th>Tags</th>\n",
              "      <th>Pessoas</th>\n",
              "      <th>Campanhas</th>\n",
              "      <th>Carrossel</th>\n",
              "      <th>Interacoes</th>\n",
              "    </tr>\n",
              "  </thead>\n",
              "  <tbody>\n",
              "    <tr>\n",
              "      <th>0</th>\n",
              "      <td>Foto</td>\n",
              "      <td>2021-09-11</td>\n",
              "      <td>2858</td>\n",
              "      <td>16</td>\n",
              "      <td>Loja</td>\n",
              "      <td>N</td>\n",
              "      <td>N</td>\n",
              "      <td>N</td>\n",
              "      <td>2874</td>\n",
              "    </tr>\n",
              "    <tr>\n",
              "      <th>1</th>\n",
              "      <td>Foto</td>\n",
              "      <td>2021-09-11</td>\n",
              "      <td>2930</td>\n",
              "      <td>28</td>\n",
              "      <td>Loja</td>\n",
              "      <td>N</td>\n",
              "      <td>N</td>\n",
              "      <td>N</td>\n",
              "      <td>2958</td>\n",
              "    </tr>\n",
              "    <tr>\n",
              "      <th>1</th>\n",
              "      <td>Foto</td>\n",
              "      <td>2021-09-11</td>\n",
              "      <td>2930</td>\n",
              "      <td>28</td>\n",
              "      <td>Produtos</td>\n",
              "      <td>N</td>\n",
              "      <td>N</td>\n",
              "      <td>N</td>\n",
              "      <td>2958</td>\n",
              "    </tr>\n",
              "    <tr>\n",
              "      <th>2</th>\n",
              "      <td>Foto</td>\n",
              "      <td>2021-09-11</td>\n",
              "      <td>2807</td>\n",
              "      <td>9</td>\n",
              "      <td>Loja</td>\n",
              "      <td>N</td>\n",
              "      <td>N</td>\n",
              "      <td>N</td>\n",
              "      <td>2816</td>\n",
              "    </tr>\n",
              "    <tr>\n",
              "      <th>3</th>\n",
              "      <td>Vídeo</td>\n",
              "      <td>2021-09-12</td>\n",
              "      <td>5115</td>\n",
              "      <td>49</td>\n",
              "      <td>Produtos</td>\n",
              "      <td>N</td>\n",
              "      <td>N</td>\n",
              "      <td>N</td>\n",
              "      <td>5164</td>\n",
              "    </tr>\n",
              "  </tbody>\n",
              "</table>\n",
              "</div>"
            ],
            "text/plain": [
              "    Tipo       Data  Curtidas  Comentários      Tags Pessoas Campanhas  \\\n",
              "0   Foto 2021-09-11      2858           16      Loja       N         N   \n",
              "1   Foto 2021-09-11      2930           28      Loja       N         N   \n",
              "1   Foto 2021-09-11      2930           28  Produtos       N         N   \n",
              "2   Foto 2021-09-11      2807            9      Loja       N         N   \n",
              "3  Vídeo 2021-09-12      5115           49  Produtos       N         N   \n",
              "\n",
              "  Carrossel  Interacoes   \n",
              "0         N         2874  \n",
              "1         N         2958  \n",
              "1         N         2958  \n",
              "2         N         2816  \n",
              "3         N         5164  "
            ]
          },
          "execution_count": 20,
          "metadata": {},
          "output_type": "execute_result"
        }
      ],
      "source": [
        "#Função explode acrescenta uma linha a mais para cada dado que foi splitado anteriormente.\n",
        "base = base.explode('Tags')\n",
        "base.head()"
      ]
    },
    {
      "cell_type": "markdown",
      "id": "b8eeb1bb",
      "metadata": {
        "id": "b8eeb1bb"
      },
      "source": [
        "### A partir desse momento só podem ser feitas análises referentes as TAGS, pois todas as outras colunas foram duplicadas em casos de 2 tags por linha, portanto trazem valores incorretos"
      ]
    },
    {
      "cell_type": "code",
      "execution_count": null,
      "id": "b9efbda0",
      "metadata": {
        "id": "b9efbda0",
        "outputId": "90f29770-195e-441b-b11b-ff75d1c99243"
      },
      "outputs": [
        {
          "data": {
            "text/html": [
              "<div>\n",
              "<style scoped>\n",
              "    .dataframe tbody tr th:only-of-type {\n",
              "        vertical-align: middle;\n",
              "    }\n",
              "\n",
              "    .dataframe tbody tr th {\n",
              "        vertical-align: top;\n",
              "    }\n",
              "\n",
              "    .dataframe thead th {\n",
              "        text-align: right;\n",
              "    }\n",
              "</style>\n",
              "<table border=\"1\" class=\"dataframe\">\n",
              "  <thead>\n",
              "    <tr style=\"text-align: right;\">\n",
              "      <th></th>\n",
              "      <th>Curtidas</th>\n",
              "      <th>Comentários</th>\n",
              "      <th>Interacoes</th>\n",
              "    </tr>\n",
              "    <tr>\n",
              "      <th>Tags</th>\n",
              "      <th></th>\n",
              "      <th></th>\n",
              "      <th></th>\n",
              "    </tr>\n",
              "  </thead>\n",
              "  <tbody>\n",
              "    <tr>\n",
              "      <th>Promoções</th>\n",
              "      <td>27458.333333</td>\n",
              "      <td>531.000000</td>\n",
              "      <td>27989.333333</td>\n",
              "    </tr>\n",
              "    <tr>\n",
              "      <th>Datas comemorativas</th>\n",
              "      <td>20752.250000</td>\n",
              "      <td>343.500000</td>\n",
              "      <td>21095.750000</td>\n",
              "    </tr>\n",
              "    <tr>\n",
              "      <th>Trends</th>\n",
              "      <td>20024.000000</td>\n",
              "      <td>352.250000</td>\n",
              "      <td>20376.250000</td>\n",
              "    </tr>\n",
              "    <tr>\n",
              "      <th>Influenciadores</th>\n",
              "      <td>15197.285714</td>\n",
              "      <td>161.714286</td>\n",
              "      <td>15359.000000</td>\n",
              "    </tr>\n",
              "    <tr>\n",
              "      <th>Novos Produtos</th>\n",
              "      <td>10304.888889</td>\n",
              "      <td>198.555556</td>\n",
              "      <td>10503.444444</td>\n",
              "    </tr>\n",
              "    <tr>\n",
              "      <th>Dicas de como usar</th>\n",
              "      <td>6833.400000</td>\n",
              "      <td>133.600000</td>\n",
              "      <td>6967.000000</td>\n",
              "    </tr>\n",
              "    <tr>\n",
              "      <th>Produtos</th>\n",
              "      <td>6269.823529</td>\n",
              "      <td>94.117647</td>\n",
              "      <td>6363.941176</td>\n",
              "    </tr>\n",
              "    <tr>\n",
              "      <th>Loja</th>\n",
              "      <td>2865.000000</td>\n",
              "      <td>17.666667</td>\n",
              "      <td>2882.666667</td>\n",
              "    </tr>\n",
              "  </tbody>\n",
              "</table>\n",
              "</div>"
            ],
            "text/plain": [
              "                         Curtidas  Comentários   Interacoes \n",
              "Tags                                                        \n",
              "Promoções            27458.333333   531.000000  27989.333333\n",
              "Datas comemorativas  20752.250000   343.500000  21095.750000\n",
              "Trends               20024.000000   352.250000  20376.250000\n",
              "Influenciadores      15197.285714   161.714286  15359.000000\n",
              "Novos Produtos       10304.888889   198.555556  10503.444444\n",
              "Dicas de como usar    6833.400000   133.600000   6967.000000\n",
              "Produtos              6269.823529    94.117647   6363.941176\n",
              "Loja                  2865.000000    17.666667   2882.666667"
            ]
          },
          "execution_count": 21,
          "metadata": {},
          "output_type": "execute_result"
        }
      ],
      "source": [
        "#Agrupando os resultados por tags, encontrando a média de cada coluna de valor e ordenando por curtidas.\n",
        "base.groupby('Tags').mean().sort_values('Curtidas', ascending = False)"
      ]
    },
    {
      "cell_type": "code",
      "execution_count": null,
      "id": "eb1e11b7",
      "metadata": {
        "id": "eb1e11b7",
        "outputId": "36b09561-98a8-45da-f6a6-6d019ec10c49"
      },
      "outputs": [
        {
          "data": {
            "text/html": [
              "<div>\n",
              "<style scoped>\n",
              "    .dataframe tbody tr th:only-of-type {\n",
              "        vertical-align: middle;\n",
              "    }\n",
              "\n",
              "    .dataframe tbody tr th {\n",
              "        vertical-align: top;\n",
              "    }\n",
              "\n",
              "    .dataframe thead th {\n",
              "        text-align: right;\n",
              "    }\n",
              "</style>\n",
              "<table border=\"1\" class=\"dataframe\">\n",
              "  <thead>\n",
              "    <tr style=\"text-align: right;\">\n",
              "      <th></th>\n",
              "      <th>Tipo</th>\n",
              "      <th>Data</th>\n",
              "      <th>Curtidas</th>\n",
              "      <th>Comentários</th>\n",
              "      <th>Tags</th>\n",
              "      <th>Pessoas</th>\n",
              "      <th>Campanhas</th>\n",
              "      <th>Carrossel</th>\n",
              "      <th>Interacoes</th>\n",
              "    </tr>\n",
              "  </thead>\n",
              "  <tbody>\n",
              "    <tr>\n",
              "      <th>11</th>\n",
              "      <td>Foto</td>\n",
              "      <td>2021-10-12</td>\n",
              "      <td>17831</td>\n",
              "      <td>391</td>\n",
              "      <td>NaN</td>\n",
              "      <td>S</td>\n",
              "      <td>S</td>\n",
              "      <td>N</td>\n",
              "      <td>18222</td>\n",
              "    </tr>\n",
              "    <tr>\n",
              "      <th>19</th>\n",
              "      <td>Foto</td>\n",
              "      <td>2021-12-12</td>\n",
              "      <td>16086</td>\n",
              "      <td>268</td>\n",
              "      <td>NaN</td>\n",
              "      <td>S</td>\n",
              "      <td>S</td>\n",
              "      <td>N</td>\n",
              "      <td>16354</td>\n",
              "    </tr>\n",
              "    <tr>\n",
              "      <th>29</th>\n",
              "      <td>Foto</td>\n",
              "      <td>2022-01-19</td>\n",
              "      <td>8612</td>\n",
              "      <td>142</td>\n",
              "      <td>NaN</td>\n",
              "      <td>S</td>\n",
              "      <td>N</td>\n",
              "      <td>N</td>\n",
              "      <td>8754</td>\n",
              "    </tr>\n",
              "    <tr>\n",
              "      <th>38</th>\n",
              "      <td>Foto</td>\n",
              "      <td>2022-02-15</td>\n",
              "      <td>17687</td>\n",
              "      <td>213</td>\n",
              "      <td>NaN</td>\n",
              "      <td>S</td>\n",
              "      <td>N</td>\n",
              "      <td>N</td>\n",
              "      <td>17900</td>\n",
              "    </tr>\n",
              "    <tr>\n",
              "      <th>41</th>\n",
              "      <td>Foto</td>\n",
              "      <td>2022-02-22</td>\n",
              "      <td>12530</td>\n",
              "      <td>90</td>\n",
              "      <td>NaN</td>\n",
              "      <td>S</td>\n",
              "      <td>N</td>\n",
              "      <td>N</td>\n",
              "      <td>12620</td>\n",
              "    </tr>\n",
              "    <tr>\n",
              "      <th>43</th>\n",
              "      <td>Foto</td>\n",
              "      <td>2022-03-04</td>\n",
              "      <td>24399</td>\n",
              "      <td>266</td>\n",
              "      <td>NaN</td>\n",
              "      <td>S</td>\n",
              "      <td>S</td>\n",
              "      <td>N</td>\n",
              "      <td>24665</td>\n",
              "    </tr>\n",
              "    <tr>\n",
              "      <th>49</th>\n",
              "      <td>Foto</td>\n",
              "      <td>2022-03-22</td>\n",
              "      <td>9087</td>\n",
              "      <td>106</td>\n",
              "      <td>NaN</td>\n",
              "      <td>S</td>\n",
              "      <td>S</td>\n",
              "      <td>N</td>\n",
              "      <td>9193</td>\n",
              "    </tr>\n",
              "    <tr>\n",
              "      <th>50</th>\n",
              "      <td>Foto</td>\n",
              "      <td>2022-03-26</td>\n",
              "      <td>16551</td>\n",
              "      <td>186</td>\n",
              "      <td>NaN</td>\n",
              "      <td>S</td>\n",
              "      <td>N</td>\n",
              "      <td>N</td>\n",
              "      <td>16737</td>\n",
              "    </tr>\n",
              "  </tbody>\n",
              "</table>\n",
              "</div>"
            ],
            "text/plain": [
              "    Tipo       Data  Curtidas  Comentários Tags Pessoas Campanhas Carrossel  \\\n",
              "11  Foto 2021-10-12     17831          391  NaN       S         S         N   \n",
              "19  Foto 2021-12-12     16086          268  NaN       S         S         N   \n",
              "29  Foto 2022-01-19      8612          142  NaN       S         N         N   \n",
              "38  Foto 2022-02-15     17687          213  NaN       S         N         N   \n",
              "41  Foto 2022-02-22     12530           90  NaN       S         N         N   \n",
              "43  Foto 2022-03-04     24399          266  NaN       S         S         N   \n",
              "49  Foto 2022-03-22      9087          106  NaN       S         S         N   \n",
              "50  Foto 2022-03-26     16551          186  NaN       S         N         N   \n",
              "\n",
              "    Interacoes   \n",
              "11        18222  \n",
              "19        16354  \n",
              "29         8754  \n",
              "38        17900  \n",
              "41        12620  \n",
              "43        24665  \n",
              "49         9193  \n",
              "50        16737  "
            ]
          },
          "execution_count": 22,
          "metadata": {},
          "output_type": "execute_result"
        }
      ],
      "source": [
        "#Filtrando valores sem tags\n",
        "base.loc[base.Tags.isnull()] "
      ]
    },
    {
      "cell_type": "code",
      "execution_count": null,
      "id": "fe321d9c",
      "metadata": {
        "id": "fe321d9c"
      },
      "outputs": [],
      "source": [
        "#Atribuindo valores para essa coluna com o Loc\n",
        "base.loc[base['Tags'].isnull(),'Tags'] = 'Sem Tag'"
      ]
    },
    {
      "cell_type": "code",
      "execution_count": null,
      "id": "6820596e",
      "metadata": {
        "id": "6820596e",
        "outputId": "1b2160d9-1faa-4ecc-b67a-d249f2162bdc"
      },
      "outputs": [
        {
          "data": {
            "text/plain": [
              "Produtos               17\n",
              "Novos Produtos          9\n",
              "Sem Tag                 8\n",
              "Influenciadores         7\n",
              "Dicas de como usar      5\n",
              "Trends                  4\n",
              "Datas comemorativas     4\n",
              "Loja                    3\n",
              "Promoções               3\n",
              "Name: Tags, dtype: int64"
            ]
          },
          "execution_count": 24,
          "metadata": {},
          "output_type": "execute_result"
        }
      ],
      "source": [
        "base.Tags.value_counts()"
      ]
    },
    {
      "cell_type": "code",
      "execution_count": null,
      "id": "5cb0cacd",
      "metadata": {
        "id": "5cb0cacd",
        "outputId": "93b318c3-8a22-41c1-89b3-e80d5c126cf0"
      },
      "outputs": [
        {
          "data": {
            "text/html": [
              "<div>\n",
              "<style scoped>\n",
              "    .dataframe tbody tr th:only-of-type {\n",
              "        vertical-align: middle;\n",
              "    }\n",
              "\n",
              "    .dataframe tbody tr th {\n",
              "        vertical-align: top;\n",
              "    }\n",
              "\n",
              "    .dataframe thead th {\n",
              "        text-align: right;\n",
              "    }\n",
              "</style>\n",
              "<table border=\"1\" class=\"dataframe\">\n",
              "  <thead>\n",
              "    <tr style=\"text-align: right;\">\n",
              "      <th></th>\n",
              "      <th>Curtidas</th>\n",
              "      <th>Comentários</th>\n",
              "      <th>Interacoes</th>\n",
              "    </tr>\n",
              "    <tr>\n",
              "      <th>Tags</th>\n",
              "      <th></th>\n",
              "      <th></th>\n",
              "      <th></th>\n",
              "    </tr>\n",
              "  </thead>\n",
              "  <tbody>\n",
              "    <tr>\n",
              "      <th>Promoções</th>\n",
              "      <td>27458.333333</td>\n",
              "      <td>531.000000</td>\n",
              "      <td>27989.333333</td>\n",
              "    </tr>\n",
              "    <tr>\n",
              "      <th>Datas comemorativas</th>\n",
              "      <td>20752.250000</td>\n",
              "      <td>343.500000</td>\n",
              "      <td>21095.750000</td>\n",
              "    </tr>\n",
              "    <tr>\n",
              "      <th>Trends</th>\n",
              "      <td>20024.000000</td>\n",
              "      <td>352.250000</td>\n",
              "      <td>20376.250000</td>\n",
              "    </tr>\n",
              "    <tr>\n",
              "      <th>Sem Tag</th>\n",
              "      <td>15347.875000</td>\n",
              "      <td>207.750000</td>\n",
              "      <td>15555.625000</td>\n",
              "    </tr>\n",
              "    <tr>\n",
              "      <th>Influenciadores</th>\n",
              "      <td>15197.285714</td>\n",
              "      <td>161.714286</td>\n",
              "      <td>15359.000000</td>\n",
              "    </tr>\n",
              "    <tr>\n",
              "      <th>Novos Produtos</th>\n",
              "      <td>10304.888889</td>\n",
              "      <td>198.555556</td>\n",
              "      <td>10503.444444</td>\n",
              "    </tr>\n",
              "    <tr>\n",
              "      <th>Dicas de como usar</th>\n",
              "      <td>6833.400000</td>\n",
              "      <td>133.600000</td>\n",
              "      <td>6967.000000</td>\n",
              "    </tr>\n",
              "    <tr>\n",
              "      <th>Produtos</th>\n",
              "      <td>6269.823529</td>\n",
              "      <td>94.117647</td>\n",
              "      <td>6363.941176</td>\n",
              "    </tr>\n",
              "    <tr>\n",
              "      <th>Loja</th>\n",
              "      <td>2865.000000</td>\n",
              "      <td>17.666667</td>\n",
              "      <td>2882.666667</td>\n",
              "    </tr>\n",
              "  </tbody>\n",
              "</table>\n",
              "</div>"
            ],
            "text/plain": [
              "                         Curtidas  Comentários   Interacoes \n",
              "Tags                                                        \n",
              "Promoções            27458.333333   531.000000  27989.333333\n",
              "Datas comemorativas  20752.250000   343.500000  21095.750000\n",
              "Trends               20024.000000   352.250000  20376.250000\n",
              "Sem Tag              15347.875000   207.750000  15555.625000\n",
              "Influenciadores      15197.285714   161.714286  15359.000000\n",
              "Novos Produtos       10304.888889   198.555556  10503.444444\n",
              "Dicas de como usar    6833.400000   133.600000   6967.000000\n",
              "Produtos              6269.823529    94.117647   6363.941176\n",
              "Loja                  2865.000000    17.666667   2882.666667"
            ]
          },
          "execution_count": 25,
          "metadata": {},
          "output_type": "execute_result"
        }
      ],
      "source": [
        "#Agrupando os resultados por tags, encontrando a média de cada coluna de valor e ordenando por curtidas.\n",
        "base.groupby('Tags').mean().sort_values('Curtidas', ascending = False)"
      ]
    },
    {
      "cell_type": "code",
      "execution_count": null,
      "id": "0b7e8d05",
      "metadata": {
        "id": "0b7e8d05",
        "outputId": "52a84efe-d9ca-4d6b-919f-5c3bda759362"
      },
      "outputs": [
        {
          "data": {
            "text/html": [
              "<div>\n",
              "<style scoped>\n",
              "    .dataframe tbody tr th:only-of-type {\n",
              "        vertical-align: middle;\n",
              "    }\n",
              "\n",
              "    .dataframe tbody tr th {\n",
              "        vertical-align: top;\n",
              "    }\n",
              "\n",
              "    .dataframe thead th {\n",
              "        text-align: right;\n",
              "    }\n",
              "</style>\n",
              "<table border=\"1\" class=\"dataframe\">\n",
              "  <thead>\n",
              "    <tr style=\"text-align: right;\">\n",
              "      <th></th>\n",
              "      <th></th>\n",
              "      <th></th>\n",
              "      <th>Curtidas</th>\n",
              "      <th>Comentários</th>\n",
              "    </tr>\n",
              "    <tr>\n",
              "      <th>Campanhas</th>\n",
              "      <th>Pessoas</th>\n",
              "      <th>Tags</th>\n",
              "      <th></th>\n",
              "      <th></th>\n",
              "    </tr>\n",
              "  </thead>\n",
              "  <tbody>\n",
              "    <tr>\n",
              "      <th rowspan=\"5\" valign=\"top\">S</th>\n",
              "      <th rowspan=\"5\" valign=\"top\">S</th>\n",
              "      <th>Promoções</th>\n",
              "      <td>33217.500000</td>\n",
              "      <td>490.500000</td>\n",
              "    </tr>\n",
              "    <tr>\n",
              "      <th>Trends</th>\n",
              "      <td>22400.666667</td>\n",
              "      <td>386.666667</td>\n",
              "    </tr>\n",
              "    <tr>\n",
              "      <th>Datas comemorativas</th>\n",
              "      <td>20752.250000</td>\n",
              "      <td>343.500000</td>\n",
              "    </tr>\n",
              "    <tr>\n",
              "      <th>Influenciadores</th>\n",
              "      <td>18715.400000</td>\n",
              "      <td>197.600000</td>\n",
              "    </tr>\n",
              "    <tr>\n",
              "      <th>Sem Tag</th>\n",
              "      <td>16850.750000</td>\n",
              "      <td>257.750000</td>\n",
              "    </tr>\n",
              "    <tr>\n",
              "      <th>N</th>\n",
              "      <th>S</th>\n",
              "      <th>Promoções</th>\n",
              "      <td>15940.000000</td>\n",
              "      <td>612.000000</td>\n",
              "    </tr>\n",
              "    <tr>\n",
              "      <th>S</th>\n",
              "      <th>S</th>\n",
              "      <th>Novos Produtos</th>\n",
              "      <td>13881.500000</td>\n",
              "      <td>453.500000</td>\n",
              "    </tr>\n",
              "    <tr>\n",
              "      <th rowspan=\"2\" valign=\"top\">N</th>\n",
              "      <th rowspan=\"2\" valign=\"top\">S</th>\n",
              "      <th>Sem Tag</th>\n",
              "      <td>13845.000000</td>\n",
              "      <td>157.750000</td>\n",
              "    </tr>\n",
              "    <tr>\n",
              "      <th>Trends</th>\n",
              "      <td>12894.000000</td>\n",
              "      <td>249.000000</td>\n",
              "    </tr>\n",
              "    <tr>\n",
              "      <th>S</th>\n",
              "      <th>S</th>\n",
              "      <th>Produtos</th>\n",
              "      <td>11802.000000</td>\n",
              "      <td>102.000000</td>\n",
              "    </tr>\n",
              "    <tr>\n",
              "      <th rowspan=\"4\" valign=\"top\">N</th>\n",
              "      <th rowspan=\"4\" valign=\"top\">S</th>\n",
              "      <th>Novos Produtos</th>\n",
              "      <td>9937.000000</td>\n",
              "      <td>136.333333</td>\n",
              "    </tr>\n",
              "    <tr>\n",
              "      <th>Produtos</th>\n",
              "      <td>7818.428571</td>\n",
              "      <td>135.857143</td>\n",
              "    </tr>\n",
              "    <tr>\n",
              "      <th>Dicas de como usar</th>\n",
              "      <td>6833.400000</td>\n",
              "      <td>133.600000</td>\n",
              "    </tr>\n",
              "    <tr>\n",
              "      <th>Influenciadores</th>\n",
              "      <td>6402.000000</td>\n",
              "      <td>72.000000</td>\n",
              "    </tr>\n",
              "    <tr>\n",
              "      <th rowspan=\"2\" valign=\"top\">S</th>\n",
              "      <th rowspan=\"2\" valign=\"top\">N</th>\n",
              "      <th>Produtos</th>\n",
              "      <td>6346.000000</td>\n",
              "      <td>33.000000</td>\n",
              "    </tr>\n",
              "    <tr>\n",
              "      <th>Novos Produtos</th>\n",
              "      <td>5359.000000</td>\n",
              "      <td>62.000000</td>\n",
              "    </tr>\n",
              "    <tr>\n",
              "      <th rowspan=\"2\" valign=\"top\">N</th>\n",
              "      <th rowspan=\"2\" valign=\"top\">N</th>\n",
              "      <th>Produtos</th>\n",
              "      <td>4213.750000</td>\n",
              "      <td>64.250000</td>\n",
              "    </tr>\n",
              "    <tr>\n",
              "      <th>Loja</th>\n",
              "      <td>2865.000000</td>\n",
              "      <td>17.666667</td>\n",
              "    </tr>\n",
              "  </tbody>\n",
              "</table>\n",
              "</div>"
            ],
            "text/plain": [
              "                                           Curtidas  Comentários\n",
              "Campanhas Pessoas Tags                                          \n",
              "S         S       Promoções            33217.500000   490.500000\n",
              "                  Trends               22400.666667   386.666667\n",
              "                  Datas comemorativas  20752.250000   343.500000\n",
              "                  Influenciadores      18715.400000   197.600000\n",
              "                  Sem Tag              16850.750000   257.750000\n",
              "N         S       Promoções            15940.000000   612.000000\n",
              "S         S       Novos Produtos       13881.500000   453.500000\n",
              "N         S       Sem Tag              13845.000000   157.750000\n",
              "                  Trends               12894.000000   249.000000\n",
              "S         S       Produtos             11802.000000   102.000000\n",
              "N         S       Novos Produtos        9937.000000   136.333333\n",
              "                  Produtos              7818.428571   135.857143\n",
              "                  Dicas de como usar    6833.400000   133.600000\n",
              "                  Influenciadores       6402.000000    72.000000\n",
              "S         N       Produtos              6346.000000    33.000000\n",
              "                  Novos Produtos        5359.000000    62.000000\n",
              "N         N       Produtos              4213.750000    64.250000\n",
              "                  Loja                  2865.000000    17.666667"
            ]
          },
          "execution_count": 31,
          "metadata": {},
          "output_type": "execute_result"
        }
      ],
      "source": [
        "base.groupby(by=['Campanhas','Pessoas','Tags'])[['Curtidas','Comentários']].mean().sort_values('Curtidas',ascending=False)"
      ]
    },
    {
      "cell_type": "markdown",
      "id": "862eadb6",
      "metadata": {
        "id": "862eadb6"
      },
      "source": [
        "## Conclusão da análise\n",
        "\n",
        "- Ter o rosto de outras pessoas é fundamental para o engajamento da publicação.\n",
        "- Criar campanhas ajuda muito na divulgação da marca.\n",
        "- Promoções tiveram um resultado absurdamente maior em relação a outras Tags.\n",
        "- Usar conteúdos que estão em Trends ajudam muito na divulgação.\n"
      ]
    }
  ],
  "metadata": {
    "kernelspec": {
      "display_name": "Python 3 (ipykernel)",
      "language": "python",
      "name": "python3"
    },
    "language_info": {
      "codemirror_mode": {
        "name": "ipython",
        "version": 3
      },
      "file_extension": ".py",
      "mimetype": "text/x-python",
      "name": "python",
      "nbconvert_exporter": "python",
      "pygments_lexer": "ipython3",
      "version": "3.9.12"
    },
    "colab": {
      "provenance": [],
      "include_colab_link": true
    }
  },
  "nbformat": 4,
  "nbformat_minor": 5
}